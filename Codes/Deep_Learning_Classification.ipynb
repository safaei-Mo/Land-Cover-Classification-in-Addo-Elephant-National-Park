{
 "cells": [
  {
   "cell_type": "markdown",
   "id": "f7bc205b-5bce-44ca-beb4-c05662aecfc9",
   "metadata": {},
   "source": [
    "##### This code is adapted from the online course 'Geospatial Deep Learning' provided by West Virginia View (http://www.wvview.org/)."
   ]
  },
  {
   "cell_type": "code",
   "execution_count": null,
   "id": "aa09b029-6db7-4338-9a51-1b4bcdb5cea1",
   "metadata": {},
   "outputs": [],
   "source": [
    "from typing import Optional, List\n",
    "import numpy as np\n",
    "import pandas as pd\n",
    "from matplotlib import pyplot as plt \n",
    "import os\n",
    "import cv2\n",
    "import torch\n",
    "import torch.nn as nn\n",
    "import torch.optim as optim\n",
    "from torch.utils.data.dataset import Dataset\n",
    "import albumentations as A\n",
    "import segmentation_models_pytorch as smp\n",
    "from segmentation_models_pytorch import utils\n",
    "import rasterio\n",
    "from sklearn.metrics import confusion_matrix\n",
    "from torch.utils.data import DataLoader\n",
    "from torch.utils.data import Dataset\n",
    "from torchsummary import summary\n",
    "import torchmetrics as tm\n",
    "from kornia import losses\n",
    "import os\n",
    "print(os.getcwd())"
   ]
  },
  {
   "cell_type": "code",
   "execution_count": null,
   "id": "36f022d5",
   "metadata": {},
   "outputs": [],
   "source": [
    "device = torch.device(\"cuda:0\" if torch.cuda.is_available() else \"cpu\")\n",
    "print(device)\n",
    "\n",
    "cuda_available = torch.cuda.is_available()\n",
    "print(\"CUDA Available:\", cuda_available)\n",
    "if cuda_available:\n",
    "    print(\"GPU Name:\", torch.cuda.get_device_name(0)) "
   ]
  },
  {
   "cell_type": "code",
   "execution_count": null,
   "id": "a8931ed7",
   "metadata": {},
   "outputs": [],
   "source": [
    "train = pd.read_csv(\"../Data/train_chips.csv\")\n",
    "val = pd.read_csv(\"../Data/val_chips.csv\")"
   ]
  },
  {
   "cell_type": "code",
   "execution_count": null,
   "id": "785a9882",
   "metadata": {},
   "outputs": [],
   "source": [
    "MULTICLASS_MODE: str = \"multiclass\"\n",
    "ENCODER = \"resnet152\"\n",
    "ENCODER_WEIGHTS = 'imagenet'\n",
    "CLASSES = ['background', 'water', 'builtup', 'bareland', 'thicket', 'agriculture', 'grass']\n",
    "ACTIVATION = None\n",
    "DEVICE = 'cuda'"
   ]
  },
  {
   "cell_type": "code",
   "execution_count": null,
   "id": "482bad07",
   "metadata": {},
   "outputs": [],
   "source": [
    "class MultiClassSegDataset(Dataset):\n",
    "    \n",
    "    def __init__(self, df, transform=None):\n",
    "        self.df = df\n",
    "        self.transform = transform\n",
    "    \n",
    "    def __getitem__(self, idx):\n",
    "        image_name = self.df.iloc[idx, 1]\n",
    "        mask_name = self.df.iloc[idx, 2]\n",
    "        image = cv2.imread(image_name)\n",
    "        image = cv2.cvtColor(image, cv2.COLOR_BGR2RGB)\n",
    "        mask = cv2.imread(mask_name, cv2.IMREAD_UNCHANGED)\n",
    "        image = image.astype('uint8')\n",
    "        \n",
    "        \n",
    "        if len(mask.shape) == 2:\n",
    "            pass  \n",
    "        else:\n",
    "            mask = mask[:,:,0]  \n",
    "        \n",
    "        if self.transform is not None:\n",
    "            transformed = self.transform(image=image, mask=mask)\n",
    "            image = transformed[\"image\"]\n",
    "            mask = transformed[\"mask\"]\n",
    "        \n",
    "        \n",
    "        image = torch.from_numpy(image).permute(2, 0, 1).float() / 255\n",
    "        mask = torch.from_numpy(mask.astype(np.uint8)).long()  \n",
    "        \n",
    "        return image, mask  \n",
    "    \n",
    "    def __len__(self):\n",
    "        return len(self.df)\n"
   ]
  },
  {
   "cell_type": "code",
   "execution_count": null,
   "id": "fb89a4b5",
   "metadata": {},
   "outputs": [],
   "source": [
    "test_transform = A.Compose(\n",
    "    [A.PadIfNeeded(min_height=64, min_width=64, border_mode=4), A.Resize(64, 64),]\n",
    ")\n",
    "\n",
    "train_transform = A.Compose(\n",
    "    [\n",
    "        A.PadIfNeeded(min_height=64, min_width=64, border_mode=4),\n",
    "        A.Resize(64, 64),\n",
    "        A.RandomBrightnessContrast(brightness_limit=0.3, contrast_limit=0.3, p=0.5),\n",
    "        A.HorizontalFlip(p=0.5),\n",
    "        A.VerticalFlip(p=0.5),\n",
    "        A.MedianBlur(blur_limit=3, always_apply=False, p=0.1),\n",
    "    ]\n",
    ")"
   ]
  },
  {
   "cell_type": "code",
   "execution_count": null,
   "id": "79207f7d",
   "metadata": {},
   "outputs": [],
   "source": [
    "trainDS = MultiClassSegDataset(train, transform=train_transform)\n",
    "valDS = MultiClassSegDataset(val, transform=test_transform)\n",
    "print(\"Number of Training Samples: \" + str(len(trainDS)) + \" Number of validation Samples: \" + str(len(valDS)))"
   ]
  },
  {
   "cell_type": "code",
   "execution_count": null,
   "id": "e6478b28",
   "metadata": {},
   "outputs": [],
   "source": [
    "trainDL = DataLoader(trainDS, batch_size=32, shuffle=True, sampler=None,\n",
    "           batch_sampler=None, num_workers=0, collate_fn=None,\n",
    "           pin_memory=False, drop_last=True, timeout=0,\n",
    "           worker_init_fn=None)\n",
    "valDL =  DataLoader(valDS, batch_size=32, shuffle=False, sampler=None,\n",
    "           batch_sampler=None, num_workers=0, collate_fn=None,\n",
    "           pin_memory=False, drop_last=True, timeout=0,\n",
    "           worker_init_fn=None)"
   ]
  },
  {
   "cell_type": "code",
   "execution_count": null,
   "id": "ecfe09f1",
   "metadata": {},
   "outputs": [],
   "source": [
    "batch = next(iter(trainDL))\n",
    "images, labels = batch\n",
    "print(images.shape, labels.shape, type(images), type(labels), images.dtype, labels.dtype)"
   ]
  },
  {
   "cell_type": "code",
   "execution_count": null,
   "id": "4834fd25",
   "metadata": {},
   "outputs": [],
   "source": [
    "def my_metrics(cm):\n",
    "  oa = np.sum(np.diagonal(cm))/np.sum(cm)\n",
    "  r_1 = cm[0][0]/np.sum(cm[:,0])\n",
    "  r_2 = cm[1][1]/np.sum(cm[:,1])\n",
    "  r_3 = cm[2][2]/np.sum(cm[:,2])\n",
    "  r_4 = cm[3][3]/np.sum(cm[:,3])\n",
    "  r_5 = cm[4][4]/np.sum(cm[:,4])\n",
    "  r_6 = cm[5][5]/np.sum(cm[:,5])\n",
    "  p_1 = cm[0][0]/np.sum(cm[0,:])\n",
    "  p_2 = cm[1][1]/np.sum(cm[1,:])\n",
    "  p_3 = cm[2][2]/np.sum(cm[2,:])\n",
    "  p_4 = cm[3][3]/np.sum(cm[3,:])\n",
    "  p_5 = cm[4][4]/np.sum(cm[4,:])\n",
    "  p_6 = cm[5][5]/np.sum(cm[5,:])\n",
    "  f_1 = (2*r_1*p_1)/(r_1+p_1)\n",
    "  f_2 = (2*r_2*p_2)/(r_2+p_2)\n",
    "  f_3 = (2*r_3*p_3)/(r_3+p_3)\n",
    "  f_4 = (2*r_4*p_4)/(r_4+p_4) \n",
    "  f_5 = (2*r_5*p_5)/(r_5+p_5)\n",
    "  f_6 = (2*r_6*p_6)/(r_6+p_6)\n",
    "  met_out = pd.Series([oa, f_1, f_2, f_3, f_4, f_5, f_6], \n",
    "  index=[\"oa\", \"f_1\", \"f_2\", \"f_3\", \"f_4\", \"f_5\", \"f_6\"])\n",
    "  return met_out"
   ]
  },
  {
   "cell_type": "code",
   "execution_count": null,
   "id": "e35d7615",
   "metadata": {},
   "outputs": [],
   "source": [
    "model = smp.UnetPlusPlus(\n",
    "    encoder_name=ENCODER, \n",
    "    encoder_weights=ENCODER_WEIGHTS, \n",
    "    decoder_use_batchnorm=True,\n",
    "    in_channels=3,\n",
    "    classes=len(CLASSES),\n",
    "    activation=ACTIVATION,\n",
    ").to(torch.device(\"cuda\", 0))\n"
   ]
  },
  {
   "cell_type": "code",
   "execution_count": null,
   "id": "3f2101aa",
   "metadata": {},
   "outputs": [],
   "source": [
    "criterion = smp.losses.DiceLoss(mode=\"multiclass\", from_logits=True, ignore_index=0)\n",
    "\n",
    "optimizer = torch.optim.SGD(model.parameters(), lr=0.01)\n",
    "\n",
    "\n",
    "epochs = 400\n",
    "total_steps = epochs * len(trainDL)  \n",
    "scheduler = optim.lr_scheduler.OneCycleLR(optimizer, max_lr=3e-1, total_steps=total_steps)\n"
   ]
  },
  {
   "cell_type": "code",
   "execution_count": null,
   "id": "b4e8f856",
   "metadata": {},
   "outputs": [],
   "source": [
    "all_metsTrain = pd.DataFrame(columns=[\"oa\", \"f_1\", \"f_2\", \"f_3\", \"f_4\", \"f_5\", \"f_6\"])\n",
    "all_metsVal = pd.DataFrame(columns=[\"oa\", \"f_1\", \"f_2\", \"f_3\", \"f_4\", \"f_5\", \"f_6\"])"
   ]
  },
  {
   "cell_type": "code",
   "execution_count": null,
   "id": "f1bab81c",
   "metadata": {},
   "outputs": [],
   "source": [
    "size = len(trainDL.dataset)"
   ]
  },
  {
   "cell_type": "code",
   "execution_count": null,
   "id": "0f441723",
   "metadata": {},
   "outputs": [],
   "source": [
    "accum_iter = 30"
   ]
  },
  {
   "cell_type": "code",
   "execution_count": null,
   "id": "fee529b0",
   "metadata": {},
   "outputs": [],
   "source": [
    "n_classes = 6 "
   ]
  },
  {
   "cell_type": "code",
   "execution_count": null,
   "id": "0a27898f",
   "metadata": {},
   "outputs": [],
   "source": [
    "device=\"cuda\""
   ]
  },
  {
   "cell_type": "code",
   "execution_count": null,
   "id": "3a323ce5",
   "metadata": {
    "scrolled": true
   },
   "outputs": [],
   "source": [
    "for t in range(epochs):\n",
    "    cmTrain = np.zeros([6, 6], dtype=int)\n",
    "    cmVal = np.zeros([6, 6], dtype=int)\n",
    "    for batch_idx, (x_batch, y_batch) in enumerate(trainDL):\n",
    "        x_batch = x_batch.to(device)\n",
    "        y_batch = y_batch.to(device)\n",
    "        with torch.set_grad_enabled(True):\n",
    "            pred = model(x_batch)\n",
    "            pred2 = pred[:, 1:n_classes+1, :, :]\n",
    "            pred3 = torch.argmax(pred2, dim=1)\n",
    "            predNP = pred3.detach().cpu().numpy().flatten()\n",
    "            predNP = predNP + 1\n",
    "            refNP = y_batch.detach().cpu().numpy().flatten()\n",
    "            try:\n",
    "                cmTB = confusion_matrix(refNP, predNP, labels=[1,2,3,4,5,6])\n",
    "            except ValueError as e:\n",
    "                print(\"Skipping a batch due to missing labels: \", e)\n",
    "                continue  \n",
    "            \n",
    "            lossT = criterion(pred, y_batch)\n",
    "            lossT = lossT / accum_iter\n",
    "            lossT.backward()\n",
    "            scheduler.step()\n",
    "            if ((batch_idx + 1) % accum_iter == 0) or (batch_idx + 1 == size):\n",
    "                optimizer.step()\n",
    "                optimizer.zero_grad()\n",
    "            cmTrain += cmTB\n",
    "    \n",
    "    for batch_idx, (x_batch, y_batch) in enumerate(valDL):\n",
    "        with torch.no_grad():\n",
    "            x_batch = x_batch.to(device)\n",
    "            y_batch = y_batch.to(device)\n",
    "            pred = model(x_batch)\n",
    "            pred2 = pred[:, 1:n_classes+1, :, :]\n",
    "            pred3= torch.argmax(pred2, dim=1)\n",
    "            predNP = pred3.detach().cpu().numpy().flatten()\n",
    "            predNP = predNP + 1\n",
    "            refNP = y_batch.detach().cpu().numpy().flatten()\n",
    "            try:\n",
    "                cmVB = confusion_matrix(refNP, predNP, labels=[1,2,3,4,5,6])\n",
    "            except ValueError as e:\n",
    "                print(\"Skipping a batch due to missing labels: \", e)\n",
    "                continue  \n",
    "            lossV = criterion(pred, y_batch)\n",
    "            cmVal += cmVB\n",
    "    metsTrain = my_metrics(cmTrain)\n",
    "    metsTrain['loss'] = lossT.detach().cpu().item()  \n",
    "\n",
    "    metsTrain = metsTrain.fillna(0)\n",
    "    all_metsTrain = pd.concat([all_metsTrain, metsTrain.to_frame().T], ignore_index=True)\n",
    "\n",
    "    metsVal = my_metrics(cmVal)\n",
    "    metsVal['loss'] = lossV.detach().cpu().item()\n",
    "    metsVal = metsVal.fillna(0)\n",
    "    all_metsVal = pd.concat([all_metsVal, metsVal.to_frame().T], ignore_index=True)\n",
    "    all_metsTrain.to_csv(\"../Data/Deep_Learning/train_epoch_metrics.csv\")\n",
    "    all_metsVal.to_csv(\"../Data/Deep_Learning/val_epoch_metrics.csv\")\n",
    "    model_name = \"../Data/Deep_Learning/model_out_\" + str(t) + \".pth\"\n",
    "    torch.save(model.state_dict(), model_name)\n",
    "    print(f\"Epoch {t+1}\\nTrain Loss: {lossT}\\nVal Loss: {lossV}\\nTraining Metrics: {metsTrain}\\nVal Metrics: {metsVal}\")"
   ]
  },
  {
   "cell_type": "code",
   "execution_count": null,
   "id": "86e617f7",
   "metadata": {},
   "outputs": [],
   "source": [
    "val_data = pd.read_csv(\"../Data/Deep_Learning/val_epoch_metrics.csv\")\n",
    "High_accuracy = max(val_data[\"oa\"].values)\n",
    "print(\"Highest accuracy:\", High_accuracy)"
   ]
  },
  {
   "cell_type": "code",
   "execution_count": null,
   "id": "d40e0e64",
   "metadata": {},
   "outputs": [],
   "source": [
    "epoch_num = val_data[val_data[\"oa\"] == High_accuracy]\n",
    "x= epoch_num.iloc[0, 0]\n",
    "print(\"The epoch with highest oa is: \",x)"
   ]
  },
  {
   "cell_type": "code",
   "execution_count": null,
   "id": "58b02be8",
   "metadata": {},
   "outputs": [],
   "source": [
    "model = smp.UnetPlusPlus(\n",
    "    encoder_name=ENCODER, \n",
    "    encoder_weights=ENCODER_WEIGHTS, \n",
    "    decoder_use_batchnorm=True,\n",
    "    in_channels=3,\n",
    "    classes=len(CLASSES),\n",
    "    activation=ACTIVATION,\n",
    ").to(torch.device(\"cuda\", 0))"
   ]
  },
  {
   "cell_type": "code",
   "execution_count": null,
   "id": "3d707e6d",
   "metadata": {},
   "outputs": [],
   "source": [
    "saveFolder = \"../Data/Deep_Learning/\"\n",
    "best_weights = torch.load(saveFolder+'model_out_280.pth')\n",
    "model.load_state_dict(best_weights)"
   ]
  },
  {
   "cell_type": "code",
   "execution_count": null,
   "id": "0a43580d",
   "metadata": {},
   "outputs": [],
   "source": [
    "testDF = pd.read_csv(\"../Data/test_chips.csv\")"
   ]
  },
  {
   "cell_type": "code",
   "execution_count": null,
   "id": "f3e181ea",
   "metadata": {},
   "outputs": [],
   "source": [
    "testDF.head()"
   ]
  },
  {
   "cell_type": "code",
   "execution_count": null,
   "id": "b4e3b673",
   "metadata": {},
   "outputs": [],
   "source": [
    "testDS = MultiClassSegDataset(testDF, transform=test_transform)"
   ]
  },
  {
   "cell_type": "code",
   "execution_count": null,
   "id": "c7e8a3b9",
   "metadata": {},
   "outputs": [],
   "source": [
    "testDL =  DataLoader(testDS, batch_size=32, shuffle=False, sampler=None,\n",
    "           batch_sampler=None, num_workers=0, collate_fn=None,\n",
    "           pin_memory=False, drop_last=True, timeout=0,\n",
    "           worker_init_fn=None)"
   ]
  },
  {
   "cell_type": "code",
   "execution_count": null,
   "id": "07c0b678",
   "metadata": {},
   "outputs": [],
   "source": [
    "model.eval()\n",
    "\n",
    "cmTest = np.zeros((6, 6), dtype=int)  \n",
    "\n",
    "with torch.no_grad():\n",
    "    for x_batch, y_batch in testDL:\n",
    "        x_batch = x_batch.to(device)\n",
    "        pred = model(x_batch)\n",
    "        pred2 = pred[:, 1:n_classes+1, :, :]  \n",
    "        pred_classes = torch.argmax(pred2, dim=1)\n",
    "        predNP = pred_classes.detach().cpu().numpy().flatten()\n",
    "        predNP = predNP + 1  \n",
    "        refNP = y_batch.detach().cpu().numpy().flatten()\n",
    "        cmTB = confusion_matrix(refNP, predNP, labels=[1, 2, 3, 4, 5, 6])\n",
    "        cmTest += cmTB\n",
    "\n",
    "metsTest = my_metrics(cmTest)\n",
    "\n",
    "print(f\"Test Metrics:\\n{metsTest}\")\n"
   ]
  },
  {
   "cell_type": "code",
   "execution_count": null,
   "id": "2350ee65",
   "metadata": {},
   "outputs": [],
   "source": [
    "train_data = pd.read_csv(\"../Data/Deep_Learning/train_epoch_metrics.csv\")\n",
    "val_data = pd.read_csv(\"../Data/Deep_Learning/val_epoch_metrics.csv\")\n",
    "\n",
    "\n",
    "epochs = train_data.iloc[:, 0].values\n",
    "train_accuracy = train_data[\"oa\"].values\n",
    "val_accuracy = val_data[\"oa\"].values\n",
    "\n",
    "# Create the plot\n",
    "plt.figure(figsize=(10, 6))\n",
    "plt.plot(epochs, train_accuracy, label='Training Accuracy', color='blue')\n",
    "plt.plot(epochs, val_accuracy, label='Validation Accuracy', color='#FF8C00')\n",
    "\n",
    "\n",
    "plt.ylim(0.1, 1.0)\n",
    "plt.yticks([0.2, 0.3, 0.4, 0.5, 0.6, 0.7, 0.8, 0.9],fontsize=12)\n",
    "plt.xticks(fontsize=12)\n",
    "plt.xlabel('Epoch', fontsize=14, labelpad=10)\n",
    "plt.ylabel('Accuracy', fontsize=14, labelpad=10)\n",
    "\n",
    "plt.legend(loc='lower right', fontsize=14)\n",
    "\n",
    "plt.grid(axis='y')\n",
    "plt.show() "
   ]
  },
  {
   "cell_type": "code",
   "execution_count": null,
   "id": "88b80a3f-c665-4af3-9137-c55e2d3121f7",
   "metadata": {},
   "outputs": [],
   "source": []
  }
 ],
 "metadata": {
  "kernelspec": {
   "display_name": "Python (pytorchSB2)",
   "language": "python",
   "name": "pytorchsb2"
  },
  "language_info": {
   "codemirror_mode": {
    "name": "ipython",
    "version": 3
   },
   "file_extension": ".py",
   "mimetype": "text/x-python",
   "name": "python",
   "nbconvert_exporter": "python",
   "pygments_lexer": "ipython3",
   "version": "3.9.4"
  }
 },
 "nbformat": 4,
 "nbformat_minor": 5
}
